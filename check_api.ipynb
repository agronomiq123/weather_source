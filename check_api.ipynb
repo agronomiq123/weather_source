{
 "cells": [
  {
   "cell_type": "code",
   "execution_count": 57,
   "metadata": {},
   "outputs": [],
   "source": [
    "#Import statements\n",
    "import requests\n",
    "import pprint\n",
    "import pandas as pd\n",
    "import json\n",
    "import os"
   ]
  },
  {
   "cell_type": "code",
   "execution_count": 58,
   "metadata": {},
   "outputs": [],
   "source": [
    "Lat = 28.27\n",
    "Lon = 79.44\n",
    "start_date = \"2024-02-01\"\n",
    "end_date = \"2024-05-31\"\n",
    "parameter = \"tempMax\""
   ]
  },
  {
   "cell_type": "code",
   "execution_count": 59,
   "metadata": {},
   "outputs": [],
   "source": [
    "historical_url = f\"https://history.weathersourceapis.com/v2/points/{Lat},{Lon}/days/{start_date},{end_date}?fields={parameter}&unitScale=METRIC\"\n",
    "headers = {\n",
    "    'X-API-KEY': 'g2Hepun1S7VuQfdDz7kDZeXJc'\n",
    "    }"
   ]
  },
  {
   "cell_type": "code",
   "execution_count": 62,
   "metadata": {},
   "outputs": [
    {
     "name": "stderr",
     "output_type": "stream",
     "text": [
      "C:\\Users\\Sandhya Rani\\AppData\\Local\\Temp\\ipykernel_396\\152663804.py:3: FutureWarning: Passing literal json to 'read_json' is deprecated and will be removed in a future version. To read from a literal string, wrap it in a 'StringIO' object.\n",
      "  df_temp_wl= pd.read_json(json.dumps(data[\"history\"]))\n"
     ]
    },
    {
     "data": {
      "text/html": [
       "<div>\n",
       "<style scoped>\n",
       "    .dataframe tbody tr th:only-of-type {\n",
       "        vertical-align: middle;\n",
       "    }\n",
       "\n",
       "    .dataframe tbody tr th {\n",
       "        vertical-align: top;\n",
       "    }\n",
       "\n",
       "    .dataframe thead th {\n",
       "        text-align: right;\n",
       "    }\n",
       "</style>\n",
       "<table border=\"1\" class=\"dataframe\">\n",
       "  <thead>\n",
       "    <tr style=\"text-align: right;\">\n",
       "      <th></th>\n",
       "      <th>date</th>\n",
       "      <th>tempMax</th>\n",
       "    </tr>\n",
       "  </thead>\n",
       "  <tbody>\n",
       "    <tr>\n",
       "      <th>0</th>\n",
       "      <td>2024-02-01</td>\n",
       "      <td>12.26</td>\n",
       "    </tr>\n",
       "    <tr>\n",
       "      <th>1</th>\n",
       "      <td>2024-02-02</td>\n",
       "      <td>19.27</td>\n",
       "    </tr>\n",
       "    <tr>\n",
       "      <th>2</th>\n",
       "      <td>2024-02-03</td>\n",
       "      <td>21.56</td>\n",
       "    </tr>\n",
       "    <tr>\n",
       "      <th>3</th>\n",
       "      <td>2024-02-04</td>\n",
       "      <td>13.30</td>\n",
       "    </tr>\n",
       "    <tr>\n",
       "      <th>4</th>\n",
       "      <td>2024-02-05</td>\n",
       "      <td>19.21</td>\n",
       "    </tr>\n",
       "    <tr>\n",
       "      <th>...</th>\n",
       "      <td>...</td>\n",
       "      <td>...</td>\n",
       "    </tr>\n",
       "    <tr>\n",
       "      <th>116</th>\n",
       "      <td>2024-05-27</td>\n",
       "      <td>49.37</td>\n",
       "    </tr>\n",
       "    <tr>\n",
       "      <th>117</th>\n",
       "      <td>2024-05-28</td>\n",
       "      <td>49.10</td>\n",
       "    </tr>\n",
       "    <tr>\n",
       "      <th>118</th>\n",
       "      <td>2024-05-29</td>\n",
       "      <td>50.44</td>\n",
       "    </tr>\n",
       "    <tr>\n",
       "      <th>119</th>\n",
       "      <td>2024-05-30</td>\n",
       "      <td>51.16</td>\n",
       "    </tr>\n",
       "    <tr>\n",
       "      <th>120</th>\n",
       "      <td>2024-05-31</td>\n",
       "      <td>48.61</td>\n",
       "    </tr>\n",
       "  </tbody>\n",
       "</table>\n",
       "<p>121 rows × 2 columns</p>\n",
       "</div>"
      ],
      "text/plain": [
       "          date  tempMax\n",
       "0   2024-02-01    12.26\n",
       "1   2024-02-02    19.27\n",
       "2   2024-02-03    21.56\n",
       "3   2024-02-04    13.30\n",
       "4   2024-02-05    19.21\n",
       "..         ...      ...\n",
       "116 2024-05-27    49.37\n",
       "117 2024-05-28    49.10\n",
       "118 2024-05-29    50.44\n",
       "119 2024-05-30    51.16\n",
       "120 2024-05-31    48.61\n",
       "\n",
       "[121 rows x 2 columns]"
      ]
     },
     "execution_count": 62,
     "metadata": {},
     "output_type": "execute_result"
    }
   ],
   "source": [
    "response = requests.get(historical_url,headers = headers)\n",
    "data = response.json()\n",
    "df_temp_wl= pd.read_json(json.dumps(data[\"history\"]))\n",
    "df_temp_wl[parameter] = df_temp_wl[parameter]\n",
    "df_temp_wl"
   ]
  },
  {
   "cell_type": "code",
   "execution_count": 63,
   "metadata": {},
   "outputs": [
    {
     "name": "stderr",
     "output_type": "stream",
     "text": [
      "<>:2: SyntaxWarning: invalid escape sequence '\\C'\n",
      "<>:2: SyntaxWarning: invalid escape sequence '\\C'\n",
      "C:\\Users\\Sandhya Rani\\AppData\\Local\\Temp\\ipykernel_396\\4294649549.py:2: SyntaxWarning: invalid escape sequence '\\C'\n",
      "  file_name = f\"D:\\Code\\weather_source\\data\\historical_{parameter}_{start_date}_{end_date}.json\"\n"
     ]
    }
   ],
   "source": [
    "#Save the historical data\n",
    "file_name = f\"D:\\Code\\weather_source\\data\\historical_{parameter}_{start_date}_{end_date}.json\"\n",
    "with open(file_name,\"w\") as f:\n",
    "    json.dump(data,f)\n"
   ]
  }
 ],
 "metadata": {
  "kernelspec": {
   "display_name": "Python 3",
   "language": "python",
   "name": "python3"
  },
  "language_info": {
   "codemirror_mode": {
    "name": "ipython",
    "version": 3
   },
   "file_extension": ".py",
   "mimetype": "text/x-python",
   "name": "python",
   "nbconvert_exporter": "python",
   "pygments_lexer": "ipython3",
   "version": "3.12.4"
  }
 },
 "nbformat": 4,
 "nbformat_minor": 2
}
